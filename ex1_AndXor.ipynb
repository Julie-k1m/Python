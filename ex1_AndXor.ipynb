{
 "cells": [
  {
   "cell_type": "code",
   "execution_count": 5,
   "id": "67089da4",
   "metadata": {
    "ExecuteTime": {
     "end_time": "2023-01-25T02:17:05.024042Z",
     "start_time": "2023-01-25T02:17:05.008907Z"
    }
   },
   "outputs": [],
   "source": [
    "import pandas as pd"
   ]
  },
  {
   "cell_type": "code",
   "execution_count": 6,
   "id": "145b126f",
   "metadata": {
    "ExecuteTime": {
     "end_time": "2023-01-25T02:17:07.602584Z",
     "start_time": "2023-01-25T02:17:07.589593Z"
    }
   },
   "outputs": [
    {
     "data": {
      "text/html": [
       "<div>\n",
       "<style scoped>\n",
       "    .dataframe tbody tr th:only-of-type {\n",
       "        vertical-align: middle;\n",
       "    }\n",
       "\n",
       "    .dataframe tbody tr th {\n",
       "        vertical-align: top;\n",
       "    }\n",
       "\n",
       "    .dataframe thead th {\n",
       "        text-align: right;\n",
       "    }\n",
       "</style>\n",
       "<table border=\"1\" class=\"dataframe\">\n",
       "  <thead>\n",
       "    <tr style=\"text-align: right;\">\n",
       "      <th></th>\n",
       "      <th>A</th>\n",
       "      <th>B</th>\n",
       "      <th>AandB</th>\n",
       "    </tr>\n",
       "  </thead>\n",
       "  <tbody>\n",
       "    <tr>\n",
       "      <th>0</th>\n",
       "      <td>0</td>\n",
       "      <td>0</td>\n",
       "      <td>0</td>\n",
       "    </tr>\n",
       "    <tr>\n",
       "      <th>1</th>\n",
       "      <td>0</td>\n",
       "      <td>1</td>\n",
       "      <td>0</td>\n",
       "    </tr>\n",
       "    <tr>\n",
       "      <th>2</th>\n",
       "      <td>1</td>\n",
       "      <td>0</td>\n",
       "      <td>0</td>\n",
       "    </tr>\n",
       "    <tr>\n",
       "      <th>3</th>\n",
       "      <td>1</td>\n",
       "      <td>1</td>\n",
       "      <td>1</td>\n",
       "    </tr>\n",
       "  </tbody>\n",
       "</table>\n",
       "</div>"
      ],
      "text/plain": [
       "   A  B  AandB\n",
       "0  0  0      0\n",
       "1  0  1      0\n",
       "2  1  0      0\n",
       "3  1  1      1"
      ]
     },
     "execution_count": 6,
     "metadata": {},
     "output_type": "execute_result"
    }
   ],
   "source": [
    "# 0은 false , 1은 true\n",
    "# true &&(and) false = false \n",
    "# 0,1 false\n",
    "# 1,0 false\n",
    "# 0,0 false\n",
    "# 1,1 true\n",
    "\n",
    "data = {'A':[0,0,1,1],\n",
    "      'B':[0,1,0,1],\n",
    "      'AandB':[0,0,0,1]}\n",
    "df = pd.DataFrame(data)\n",
    "df"
   ]
  },
  {
   "cell_type": "markdown",
   "id": "3d612b83",
   "metadata": {},
   "source": [
    "#### 문제와 답으로 분리\n",
    "- X : 문제 = 속성 = 특성= 피쳐(feature) - 2차원이라 대문자 X\n",
    "- y : 답 = 레이블(label) = 타겟(target) - 1차원이라 소문자 y"
   ]
  },
  {
   "cell_type": "code",
   "execution_count": 24,
   "id": "a0d4bd6d",
   "metadata": {
    "ExecuteTime": {
     "end_time": "2023-01-25T06:02:04.221258Z",
     "start_time": "2023-01-25T06:02:04.169857Z"
    }
   },
   "outputs": [
    {
     "name": "stdout",
     "output_type": "stream",
     "text": [
      "   A  B\n",
      "0  0  0\n",
      "1  0  1\n",
      "2  1  0\n",
      "3  1  1\n",
      "0    0\n",
      "1    0\n",
      "2    0\n",
      "3    1\n",
      "Name: AandB, dtype: int64\n"
     ]
    }
   ],
   "source": [
    "X = df[['A','B']]\n",
    "X = df.loc[:,['A','B']]\n",
    "X = df.loc[:,'A':'B']\n",
    "X = df.iloc[:,[0,1]]\n",
    "\n",
    "# 훈련데이터의 경우 train으로 구분\n",
    "X_train = df.iloc[:,:2]\n",
    "y_train=df['AandB']\n",
    "print(X_train)\n",
    "print(y_train)"
   ]
  },
  {
   "cell_type": "code",
   "execution_count": 14,
   "id": "9b008dc7",
   "metadata": {
    "ExecuteTime": {
     "end_time": "2023-01-25T02:19:05.377661Z",
     "start_time": "2023-01-25T02:19:05.367726Z"
    }
   },
   "outputs": [
    {
     "name": "stdout",
     "output_type": "stream",
     "text": [
      "(4, 2)\n",
      "(4,)\n"
     ]
    }
   ],
   "source": [
    "# 크기확인\n",
    "print(X_train.shape)\n",
    "print(y_train.shape)"
   ]
  },
  {
   "cell_type": "markdown",
   "id": "2d573ed8",
   "metadata": {
    "ExecuteTime": {
     "end_time": "2023-01-25T02:07:44.425893Z",
     "start_time": "2023-01-25T02:07:43.817479Z"
    }
   },
   "source": [
    "##### ML 모델 학습"
   ]
  },
  {
   "cell_type": "code",
   "execution_count": 15,
   "id": "d7074cb0",
   "metadata": {
    "ExecuteTime": {
     "end_time": "2023-01-25T02:22:34.859030Z",
     "start_time": "2023-01-25T02:22:33.776595Z"
    }
   },
   "outputs": [],
   "source": [
    "# sciket-learn 머신러닝용 패키지 라이브러리\n",
    "# 분류모델\n",
    "from sklearn.neighbors import KNeighborsClassifier \n"
   ]
  },
  {
   "cell_type": "code",
   "execution_count": 16,
   "id": "4e5cd157",
   "metadata": {
    "ExecuteTime": {
     "end_time": "2023-01-25T02:22:49.118862Z",
     "start_time": "2023-01-25T02:22:49.111880Z"
    }
   },
   "outputs": [],
   "source": [
    "# 모델 객체 생성 + Hyper Parameter 설정\n",
    "knn_model = KNeighborsClassifier(n_neighbors =1)\n",
    "\n",
    "# KNN 최근접 이웃 알고리즘\n",
    "# 문제 데이터와 가장 가까운 이웃 데이터와\n",
    "# 실제 답을 확인하여 결과를 예측하는 모델\n"
   ]
  },
  {
   "cell_type": "code",
   "execution_count": 18,
   "id": "ad5fd707",
   "metadata": {
    "ExecuteTime": {
     "end_time": "2023-01-25T02:28:42.933308Z",
     "start_time": "2023-01-25T02:28:42.913334Z"
    }
   },
   "outputs": [
    {
     "data": {
      "text/plain": [
       "KNeighborsClassifier(n_neighbors=1)"
      ]
     },
     "execution_count": 18,
     "metadata": {},
     "output_type": "execute_result"
    }
   ],
   "source": [
    "# 모델 학습\n",
    "# fit(학습용 문제, 학습용 답): 데이터에 맞춰서 모델이 학습한다.  \n",
    "knn_model.fit(X_train,y_train)\n",
    "# knn_model 이라는 학생이 학습을 끝냄"
   ]
  },
  {
   "cell_type": "code",
   "execution_count": 23,
   "id": "1b4e3f8e",
   "metadata": {
    "ExecuteTime": {
     "end_time": "2023-01-25T02:38:10.213657Z",
     "start_time": "2023-01-25T02:38:10.192697Z"
    }
   },
   "outputs": [
    {
     "name": "stderr",
     "output_type": "stream",
     "text": [
      "C:\\Users\\SMHRD\\anaconda3\\lib\\site-packages\\sklearn\\base.py:450: UserWarning: X does not have valid feature names, but KNeighborsClassifier was fitted with feature names\n",
      "  warnings.warn(\n",
      "C:\\Users\\SMHRD\\anaconda3\\lib\\site-packages\\sklearn\\neighbors\\_classification.py:228: FutureWarning: Unlike other reduction functions (e.g. `skew`, `kurtosis`), the default behavior of `mode` typically preserves the axis it acts along. In SciPy 1.11.0, this behavior will change: the default value of `keepdims` will become False, the `axis` over which the statistic is taken will be eliminated, and the value None will no longer be accepted. Set `keepdims` to True or False to avoid this warning.\n",
      "  mode, _ = stats.mode(_y[neigh_ind, k], axis=1)\n"
     ]
    },
    {
     "data": {
      "text/plain": [
       "array([0, 1], dtype=int64)"
      ]
     },
     "execution_count": 23,
     "metadata": {},
     "output_type": "execute_result"
    }
   ],
   "source": [
    "# 예측\n",
    "# 새로운데이터 예측을 잘 할수 있는지\n",
    "# predict(X_test) 테스트용 문제\n",
    "# 임의의 데이터 [[0,1],[1,1]]\n",
    "# 실제 답 [0,1] 이 나와야 함\n",
    "pre = knn_model.predict([[0,1],[1,1]])\n",
    "# 0 1 = 0 : 0 다음 1 다음은 0이 나와야 함\n",
    "# 1 1 = 1 :  1 다음 1다음은 1이 나와야 함\n",
    "pre "
   ]
  },
  {
   "cell_type": "code",
   "execution_count": 22,
   "id": "23c11eeb",
   "metadata": {
    "ExecuteTime": {
     "end_time": "2023-01-25T02:36:15.403296Z",
     "start_time": "2023-01-25T02:36:15.384379Z"
    }
   },
   "outputs": [
    {
     "data": {
      "text/plain": [
       "100.0"
      ]
     },
     "execution_count": 22,
     "metadata": {},
     "output_type": "execute_result"
    }
   ],
   "source": [
    "# 평가\n",
    "# 정확도 점수\n",
    "from sklearn.metrics import accuracy_score\n",
    "accuracy_score(pre,[0,1]) *100\n",
    "# pre = 예측정답, [0,1] = 답\n",
    "#백분율 *100"
   ]
  },
  {
   "cell_type": "code",
   "execution_count": null,
   "id": "711dfcc6",
   "metadata": {},
   "outputs": [],
   "source": []
  },
  {
   "cell_type": "code",
   "execution_count": null,
   "id": "c93fbbdb",
   "metadata": {},
   "outputs": [],
   "source": []
  }
 ],
 "metadata": {
  "kernelspec": {
   "display_name": "Python 3 (ipykernel)",
   "language": "python",
   "name": "python3"
  },
  "language_info": {
   "codemirror_mode": {
    "name": "ipython",
    "version": 3
   },
   "file_extension": ".py",
   "mimetype": "text/x-python",
   "name": "python",
   "nbconvert_exporter": "python",
   "pygments_lexer": "ipython3",
   "version": "3.9.13"
  },
  "toc": {
   "base_numbering": 1,
   "nav_menu": {},
   "number_sections": true,
   "sideBar": true,
   "skip_h1_title": false,
   "title_cell": "Table of Contents",
   "title_sidebar": "Contents",
   "toc_cell": false,
   "toc_position": {},
   "toc_section_display": true,
   "toc_window_display": false
  }
 },
 "nbformat": 4,
 "nbformat_minor": 5
}
